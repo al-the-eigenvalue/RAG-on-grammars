{
 "cells": [
  {
   "cell_type": "code",
   "execution_count": 12,
   "id": "e88c9ea1-aacf-4542-8592-0e3d421c9c65",
   "metadata": {},
   "outputs": [],
   "source": [
    "import pandas as pd"
   ]
  },
  {
   "cell_type": "code",
   "execution_count": 13,
   "id": "0e4a5527-0ca8-4f69-9e97-510643757181",
   "metadata": {},
   "outputs": [],
   "source": [
    "scores_1 = '/home/jovyan/kornilov_albert/Reranker Similarity Scores/'\n",
    "scores_2 = '/home/jovyan/kornilov_albert/RAG-on-grammars/Reranker Similarity Scores/'"
   ]
  },
  {
   "cell_type": "code",
   "execution_count": 14,
   "id": "4d75d510-6e66-49c8-80f5-d0ac53b4d479",
   "metadata": {},
   "outputs": [
    {
     "name": "stdout",
     "output_type": "stream",
     "text": [
      "carroll2016ngkolmpu\n"
     ]
    }
   ],
   "source": [
    "df_1 = pd.read_csv(scores_1 + 'WALS 81A/scores.csv')\n",
    "df_2 = pd.read_csv(scores_2 + 'WALS 81A/scores.csv')\n",
    "for column in df_1.columns:\n",
    "    if (df_1[column].values != df_2[column].values).any():\n",
    "        print(column)"
   ]
  },
  {
   "cell_type": "code",
   "execution_count": 15,
   "id": "d4292ceb-122a-4aa0-8903-df91ad524717",
   "metadata": {},
   "outputs": [],
   "source": [
    "df_1 = pd.read_csv(scores_1 + 'WALS 116A/scores.csv')\n",
    "df_2 = pd.read_csv(scores_2 + 'WALS 116A/scores.csv')\n",
    "for column in df_1.columns:\n",
    "    if (df_1[column].values != df_2[column].values).any():\n",
    "        print(column)"
   ]
  },
  {
   "cell_type": "code",
   "execution_count": 16,
   "id": "c8c54f97-6f4b-4531-b4d7-0ae3b07cf2ec",
   "metadata": {},
   "outputs": [],
   "source": [
    "df_1 = pd.read_csv(scores_1 + 'GB 107/scores.csv')\n",
    "df_2 = pd.read_csv(scores_2 + 'GB 107/scores.csv')\n",
    "for column in df_1.columns:\n",
    "    if (df_1[column].values != df_2[column].values).any():\n",
    "        print(column)"
   ]
  },
  {
   "cell_type": "code",
   "execution_count": 17,
   "id": "ad09f235-5864-407c-b040-a27ecccf8a72",
   "metadata": {},
   "outputs": [
    {
     "name": "stdout",
     "output_type": "stream",
     "text": [
      "rubino2000ilocano\n",
      "broadbent1964southern\n",
      "wheeler1999catalan\n"
     ]
    }
   ],
   "source": [
    "df_1 = pd.read_csv(scores_1 + 'WALS 49A/scores.csv')\n",
    "df_2 = pd.read_csv(scores_2 + 'WALS 49A/scores.csv')\n",
    "for column in df_1.columns:\n",
    "    if (df_1[column].values != df_2[column].values).any():\n",
    "        print(column)"
   ]
  },
  {
   "cell_type": "code",
   "execution_count": null,
   "id": "9de1f202-afa5-4389-8f94-bb93f5549bf2",
   "metadata": {},
   "outputs": [],
   "source": []
  }
 ],
 "metadata": {
  "kernelspec": {
   "display_name": "Python [conda env:.mlspace-albert]",
   "language": "python",
   "name": "conda-env-.mlspace-albert-py"
  },
  "language_info": {
   "codemirror_mode": {
    "name": "ipython",
    "version": 3
   },
   "file_extension": ".py",
   "mimetype": "text/x-python",
   "name": "python",
   "nbconvert_exporter": "python",
   "pygments_lexer": "ipython3",
   "version": "3.10.14"
  }
 },
 "nbformat": 4,
 "nbformat_minor": 5
}
